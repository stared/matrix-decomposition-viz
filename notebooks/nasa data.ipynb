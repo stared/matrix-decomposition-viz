{
 "cells": [
  {
   "cell_type": "markdown",
   "metadata": {},
   "source": [
    "https://data.giss.nasa.gov/gistemp/station_data/"
   ]
  },
  {
   "cell_type": "code",
   "execution_count": 26,
   "metadata": {
    "collapsed": true
   },
   "outputs": [],
   "source": [
    "%matplotlib inline\n",
    "import pandas as pd\n",
    "from glob import glob"
   ]
  },
  {
   "cell_type": "code",
   "execution_count": 34,
   "metadata": {
    "collapsed": true
   },
   "outputs": [],
   "source": [
    "def last_not_missing_year(filename):\n",
    "    df = pd.read_table(filename, delim_whitespace=True, na_values=999.9).dropna()\n",
    "    ser = df.iloc[-1, :13]\n",
    "    ser.name = filename.split(\"/\")[-1][:-4]\n",
    "    return ser"
   ]
  },
  {
   "cell_type": "code",
   "execution_count": 49,
   "metadata": {
    "collapsed": false
   },
   "outputs": [],
   "source": [
    "last_years = [last_not_missing_year(filename) for filename in glob(\"/home/piotr/Downloads/weather_nasa/*.txt\")]\n",
    "df = pd.concat(last_years, axis=1).transpose()\n",
    "df['YEAR'] = df['YEAR'].astype(int)"
   ]
  },
  {
   "cell_type": "code",
   "execution_count": 50,
   "metadata": {
    "collapsed": false
   },
   "outputs": [
    {
     "data": {
      "text/html": [
       "<div>\n",
       "<table border=\"1\" class=\"dataframe\">\n",
       "  <thead>\n",
       "    <tr style=\"text-align: right;\">\n",
       "      <th></th>\n",
       "      <th>YEAR</th>\n",
       "      <th>JAN</th>\n",
       "      <th>FEB</th>\n",
       "      <th>MAR</th>\n",
       "      <th>APR</th>\n",
       "      <th>MAY</th>\n",
       "      <th>JUN</th>\n",
       "      <th>JUL</th>\n",
       "      <th>AUG</th>\n",
       "      <th>SEP</th>\n",
       "      <th>OCT</th>\n",
       "      <th>NOV</th>\n",
       "      <th>DEC</th>\n",
       "    </tr>\n",
       "  </thead>\n",
       "  <tbody>\n",
       "    <tr>\n",
       "      <th>san_francisco</th>\n",
       "      <td>2016</td>\n",
       "      <td>11.5</td>\n",
       "      <td>13.9</td>\n",
       "      <td>14.3</td>\n",
       "      <td>15.7</td>\n",
       "      <td>16.3</td>\n",
       "      <td>17.4</td>\n",
       "      <td>17.2</td>\n",
       "      <td>17.7</td>\n",
       "      <td>18.2</td>\n",
       "      <td>17.4</td>\n",
       "      <td>14.6</td>\n",
       "      <td>10.4</td>\n",
       "    </tr>\n",
       "    <tr>\n",
       "      <th>london_gatwick</th>\n",
       "      <td>1997</td>\n",
       "      <td>2.3</td>\n",
       "      <td>6.5</td>\n",
       "      <td>8.7</td>\n",
       "      <td>9.2</td>\n",
       "      <td>12.3</td>\n",
       "      <td>15.4</td>\n",
       "      <td>17.3</td>\n",
       "      <td>20.0</td>\n",
       "      <td>14.8</td>\n",
       "      <td>10.8</td>\n",
       "      <td>8.7</td>\n",
       "      <td>6.4</td>\n",
       "    </tr>\n",
       "    <tr>\n",
       "      <th>cape_town</th>\n",
       "      <td>2000</td>\n",
       "      <td>23.1</td>\n",
       "      <td>23.3</td>\n",
       "      <td>21.4</td>\n",
       "      <td>19.0</td>\n",
       "      <td>17.1</td>\n",
       "      <td>15.5</td>\n",
       "      <td>15.4</td>\n",
       "      <td>15.6</td>\n",
       "      <td>15.4</td>\n",
       "      <td>18.6</td>\n",
       "      <td>20.9</td>\n",
       "      <td>21.3</td>\n",
       "    </tr>\n",
       "    <tr>\n",
       "      <th>sydney</th>\n",
       "      <td>2016</td>\n",
       "      <td>23.8</td>\n",
       "      <td>24.6</td>\n",
       "      <td>23.4</td>\n",
       "      <td>20.8</td>\n",
       "      <td>18.1</td>\n",
       "      <td>15.1</td>\n",
       "      <td>14.4</td>\n",
       "      <td>14.5</td>\n",
       "      <td>17.3</td>\n",
       "      <td>19.0</td>\n",
       "      <td>21.8</td>\n",
       "      <td>24.3</td>\n",
       "    </tr>\n",
       "    <tr>\n",
       "      <th>warsaw</th>\n",
       "      <td>2016</td>\n",
       "      <td>-2.9</td>\n",
       "      <td>3.6</td>\n",
       "      <td>4.2</td>\n",
       "      <td>9.7</td>\n",
       "      <td>16.1</td>\n",
       "      <td>19.5</td>\n",
       "      <td>20.0</td>\n",
       "      <td>18.8</td>\n",
       "      <td>16.4</td>\n",
       "      <td>7.6</td>\n",
       "      <td>3.2</td>\n",
       "      <td>1.3</td>\n",
       "    </tr>\n",
       "    <tr>\n",
       "      <th>jerusalem</th>\n",
       "      <td>1999</td>\n",
       "      <td>9.7</td>\n",
       "      <td>10.3</td>\n",
       "      <td>12.7</td>\n",
       "      <td>15.5</td>\n",
       "      <td>21.2</td>\n",
       "      <td>22.1</td>\n",
       "      <td>24.1</td>\n",
       "      <td>25.3</td>\n",
       "      <td>23.5</td>\n",
       "      <td>20.1</td>\n",
       "      <td>15.7</td>\n",
       "      <td>11.8</td>\n",
       "    </tr>\n",
       "    <tr>\n",
       "      <th>mexico</th>\n",
       "      <td>2016</td>\n",
       "      <td>14.0</td>\n",
       "      <td>15.6</td>\n",
       "      <td>17.5</td>\n",
       "      <td>20.3</td>\n",
       "      <td>20.6</td>\n",
       "      <td>18.1</td>\n",
       "      <td>17.6</td>\n",
       "      <td>18.2</td>\n",
       "      <td>17.8</td>\n",
       "      <td>16.8</td>\n",
       "      <td>14.9</td>\n",
       "      <td>16.0</td>\n",
       "    </tr>\n",
       "    <tr>\n",
       "      <th>toronto</th>\n",
       "      <td>2000</td>\n",
       "      <td>-5.8</td>\n",
       "      <td>-3.1</td>\n",
       "      <td>4.5</td>\n",
       "      <td>6.7</td>\n",
       "      <td>14.3</td>\n",
       "      <td>18.2</td>\n",
       "      <td>20.1</td>\n",
       "      <td>20.6</td>\n",
       "      <td>15.9</td>\n",
       "      <td>11.2</td>\n",
       "      <td>3.6</td>\n",
       "      <td>-7.2</td>\n",
       "    </tr>\n",
       "  </tbody>\n",
       "</table>\n",
       "</div>"
      ],
      "text/plain": [
       "                YEAR   JAN   FEB   MAR   APR   MAY   JUN   JUL   AUG   SEP  \\\n",
       "san_francisco   2016  11.5  13.9  14.3  15.7  16.3  17.4  17.2  17.7  18.2   \n",
       "london_gatwick  1997   2.3   6.5   8.7   9.2  12.3  15.4  17.3  20.0  14.8   \n",
       "cape_town       2000  23.1  23.3  21.4  19.0  17.1  15.5  15.4  15.6  15.4   \n",
       "sydney          2016  23.8  24.6  23.4  20.8  18.1  15.1  14.4  14.5  17.3   \n",
       "warsaw          2016  -2.9   3.6   4.2   9.7  16.1  19.5  20.0  18.8  16.4   \n",
       "jerusalem       1999   9.7  10.3  12.7  15.5  21.2  22.1  24.1  25.3  23.5   \n",
       "mexico          2016  14.0  15.6  17.5  20.3  20.6  18.1  17.6  18.2  17.8   \n",
       "toronto         2000  -5.8  -3.1   4.5   6.7  14.3  18.2  20.1  20.6  15.9   \n",
       "\n",
       "                 OCT   NOV   DEC  \n",
       "san_francisco   17.4  14.6  10.4  \n",
       "london_gatwick  10.8   8.7   6.4  \n",
       "cape_town       18.6  20.9  21.3  \n",
       "sydney          19.0  21.8  24.3  \n",
       "warsaw           7.6   3.2   1.3  \n",
       "jerusalem       20.1  15.7  11.8  \n",
       "mexico          16.8  14.9  16.0  \n",
       "toronto         11.2   3.6  -7.2  "
      ]
     },
     "execution_count": 50,
     "metadata": {},
     "output_type": "execute_result"
    }
   ],
   "source": [
    "df"
   ]
  },
  {
   "cell_type": "code",
   "execution_count": 51,
   "metadata": {
    "collapsed": false
   },
   "outputs": [],
   "source": [
    "df.to_csv(\"city_temp.csv\")"
   ]
  },
  {
   "cell_type": "code",
   "execution_count": null,
   "metadata": {
    "collapsed": true
   },
   "outputs": [],
   "source": []
  }
 ],
 "metadata": {
  "anaconda-cloud": {},
  "kernelspec": {
   "display_name": "Python [default]",
   "language": "python",
   "name": "python3"
  },
  "language_info": {
   "codemirror_mode": {
    "name": "ipython",
    "version": 3
   },
   "file_extension": ".py",
   "mimetype": "text/x-python",
   "name": "python",
   "nbconvert_exporter": "python",
   "pygments_lexer": "ipython3",
   "version": "3.5.2"
  }
 },
 "nbformat": 4,
 "nbformat_minor": 1
}
